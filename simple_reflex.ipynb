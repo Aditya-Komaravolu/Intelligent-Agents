{
 "cells": [
  {
   "cell_type": "code",
   "execution_count": 20,
   "metadata": {},
   "outputs": [
    {
     "output_type": "execute_result",
     "data": {
      "text/plain": "    0   1   2   3   4\n0  10   5  12   0   7\n1   0  12  23   8   8\n2  11   9   4  10   6\n3   0   0   8   0  12\n4   1  10   7  12   3",
      "text/html": "<div>\n<style scoped>\n    .dataframe tbody tr th:only-of-type {\n        vertical-align: middle;\n    }\n\n    .dataframe tbody tr th {\n        vertical-align: top;\n    }\n\n    .dataframe thead th {\n        text-align: right;\n    }\n</style>\n<table border=\"1\" class=\"dataframe\">\n  <thead>\n    <tr style=\"text-align: right;\">\n      <th></th>\n      <th>0</th>\n      <th>1</th>\n      <th>2</th>\n      <th>3</th>\n      <th>4</th>\n    </tr>\n  </thead>\n  <tbody>\n    <tr>\n      <th>0</th>\n      <td>10</td>\n      <td>5</td>\n      <td>12</td>\n      <td>0</td>\n      <td>7</td>\n    </tr>\n    <tr>\n      <th>1</th>\n      <td>0</td>\n      <td>12</td>\n      <td>23</td>\n      <td>8</td>\n      <td>8</td>\n    </tr>\n    <tr>\n      <th>2</th>\n      <td>11</td>\n      <td>9</td>\n      <td>4</td>\n      <td>10</td>\n      <td>6</td>\n    </tr>\n    <tr>\n      <th>3</th>\n      <td>0</td>\n      <td>0</td>\n      <td>8</td>\n      <td>0</td>\n      <td>12</td>\n    </tr>\n    <tr>\n      <th>4</th>\n      <td>1</td>\n      <td>10</td>\n      <td>7</td>\n      <td>12</td>\n      <td>3</td>\n    </tr>\n  </tbody>\n</table>\n</div>"
     },
     "metadata": {},
     "execution_count": 20
    }
   ],
   "source": [
    "import pandas as pd\n",
    "import numpy as np\n",
    "data=np.array([[10,5,12,0,7],[0,12,23,8,8],[11,9,4,10,6],[0,0,8,0,12],[1,10,7,12,3]])\n",
    "max_dirt=data.sum()\n",
    "environment=pd.DataFrame(data)\n",
    "environment"
   ]
  },
  {
   "cell_type": "code",
   "execution_count": 21,
   "metadata": {},
   "outputs": [],
   "source": [
    "time_count=0\n",
    "dirt_collected=0\n",
    "for x in range(5):\n",
    "    for y in range(5):\n",
    "        if x%2==0:\n",
    "            if environment.iloc[x,y]==0:\n",
    "                continue\n",
    "            elif environment.iloc[x,y]==7:\n",
    "                time_count+=2 * (environment.iloc[x,y]//7 ) \n",
    "                dirt_collected+=environment.iloc[x,y]\n",
    "                environment.iloc[x,y]=0\n",
    "                time_count+=10\n",
    "            else:\n",
    "                time_count+=2 *(environment.iloc[x,y]//7 + 1)\n",
    "                dirt_collected+=environment.iloc[x,y]\n",
    "                time_count+=10\n",
    "        else:\n",
    "            y=4-y\n",
    "            if environment.iloc[x,y]==0:\n",
    "                time_count+=10\n",
    "            elif environment.iloc[x,y]==7:\n",
    "                time_count=2 * (environment.iloc[x,y]//7 ) \n",
    "                dirt_collected+=environment.iloc[x,y]\n",
    "                environment.iloc[x,y]=0\n",
    "                time_count+=10\n",
    "            else:\n",
    "                time_count+=2 *(environment.iloc[x,y]//7 + 1)\n",
    "                dirt_collected+=environment.iloc[x,y]\n",
    "                time_count+=10"
   ]
  },
  {
   "cell_type": "code",
   "execution_count": 22,
   "metadata": {
    "tags": []
   },
   "outputs": [
    {
     "output_type": "stream",
     "name": "stdout",
     "text": "Dirt collected = 178\nTime elapsed : 310 seconds\n"
    }
   ],
   "source": [
    "print(\"Dirt collected = {}\".format(dirt_collected))\n",
    "print(\"Time elapsed : {} seconds\".format(time_count))"
   ]
  },
  {
   "cell_type": "code",
   "execution_count": null,
   "metadata": {},
   "outputs": [],
   "source": []
  }
 ],
 "metadata": {
  "kernelspec": {
   "display_name": "Python 3",
   "language": "python",
   "name": "python3"
  },
  "language_info": {
   "codemirror_mode": {
    "name": "ipython",
    "version": 3
   },
   "file_extension": ".py",
   "mimetype": "text/x-python",
   "name": "python",
   "nbconvert_exporter": "python",
   "pygments_lexer": "ipython3",
   "version": "3.7.6-final"
  }
 },
 "nbformat": 4,
 "nbformat_minor": 2
}